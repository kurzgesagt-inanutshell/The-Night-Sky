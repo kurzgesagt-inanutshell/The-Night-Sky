{
 "cells": [
  {
   "cell_type": "code",
   "execution_count": 3,
   "metadata": {},
   "outputs": [
    {
     "data": {
      "text/plain": [
       "'3.2.2'"
      ]
     },
     "execution_count": 3,
     "metadata": {},
     "output_type": "execute_result"
    }
   ],
   "source": [
    "import numpy as np\n",
    "import pandas as pd\n",
    "import cartopy.crs as ccrs\n",
    "\n",
    "import matplotlib\n",
    "import matplotlib.pyplot as plt\n",
    "matplotlib.__version__"
   ]
  },
  {
   "cell_type": "code",
   "execution_count": 4,
   "metadata": {},
   "outputs": [],
   "source": [
    "# Watermark is not required for this code, but is included for information. \n",
    "#import watermark\n",
    "#%load_ext watermark\n",
    "#%watermark -a \"ELEANOR LUTZ\" -d -v -iv -m"
   ]
  },
  {
   "cell_type": "markdown",
   "metadata": {},
   "source": [
    "## Code Description\n",
    "\n",
    "This code makes reference plots to use when illustrating individual asterisms. These illustrated drawings can be found in the bottom right of the [finished map](http://tabletopwhale.com/img/posts/19-07-15.jpg). The original map uses [Western Constellation lines](http://hemel.waarnemen.com/download/#cetera) by Marc van der Sluys, but this code file uses the same Stellarium asterism data as in `2_process_asterism_data`."
   ]
  },
  {
   "cell_type": "code",
   "execution_count": 5,
   "metadata": {},
   "outputs": [],
   "source": [
    "stars = pd.read_csv('./data/processed/hygdata_processed_mag65.csv')\n",
    "stars = stars[stars['mag'] <= 6.5]\n",
    "asterisms = pd.read_csv('./data/processed/asterisms.csv')\n",
    "const_names = pd.read_csv('./data/processed/centered_constellations.csv', encoding=\"latin-1\")\n",
    "names = ['Scorpius', 'Cancer', 'Corona Borealis', 'Crater', \n",
    "         'Lepus', 'Gemini', 'Cygnus', 'Sagittarius']\n",
    "gap = 30"
   ]
  },
  {
   "cell_type": "code",
   "execution_count": 6,
   "metadata": {},
   "outputs": [
    {
     "ename": "ValueError",
     "evalue": "Invalid transform: Spherical scatter is not supported - consider using PlateCarree/RotatedPole.",
     "output_type": "error",
     "traceback": [
      "\u001b[0;31m---------------------------------------------------------------------------\u001b[0m",
      "\u001b[0;31mValueError\u001b[0m                                Traceback (most recent call last)",
      "\u001b[0;32m<ipython-input-6-afe52be0379c>\u001b[0m in \u001b[0;36m<module>\u001b[0;34m\u001b[0m\n\u001b[1;32m     16\u001b[0m \u001b[0;34m\u001b[0m\u001b[0m\n\u001b[1;32m     17\u001b[0m     \u001b[0max\u001b[0m\u001b[0;34m.\u001b[0m\u001b[0mset_title\u001b[0m\u001b[0;34m(\u001b[0m\u001b[0mname\u001b[0m\u001b[0;34m)\u001b[0m\u001b[0;34m\u001b[0m\u001b[0;34m\u001b[0m\u001b[0m\n\u001b[0;32m---> 18\u001b[0;31m     \u001b[0max\u001b[0m\u001b[0;34m.\u001b[0m\u001b[0mscatter\u001b[0m\u001b[0;34m(\u001b[0m\u001b[0;36m360\u001b[0m\u001b[0;34m/\u001b[0m\u001b[0;36m24\u001b[0m\u001b[0;34m*\u001b[0m\u001b[0mstars\u001b[0m\u001b[0;34m[\u001b[0m\u001b[0;34m'ra'\u001b[0m\u001b[0;34m]\u001b[0m\u001b[0;34m,\u001b[0m \u001b[0mstars\u001b[0m\u001b[0;34m[\u001b[0m\u001b[0;34m'dec'\u001b[0m\u001b[0;34m]\u001b[0m\u001b[0;34m,\u001b[0m \u001b[0mtransform\u001b[0m\u001b[0;34m=\u001b[0m\u001b[0mccrs\u001b[0m\u001b[0;34m.\u001b[0m\u001b[0mGeodetic\u001b[0m\u001b[0;34m(\u001b[0m\u001b[0;34m)\u001b[0m\u001b[0;34m,\u001b[0m \u001b[0ms\u001b[0m\u001b[0;34m=\u001b[0m\u001b[0;36m5\u001b[0m\u001b[0;34m,\u001b[0m \u001b[0malpha\u001b[0m\u001b[0;34m=\u001b[0m\u001b[0;36m0.5\u001b[0m\u001b[0;34m)\u001b[0m\u001b[0;34m\u001b[0m\u001b[0;34m\u001b[0m\u001b[0m\n\u001b[0m\u001b[1;32m     19\u001b[0m     \u001b[0mstars_names\u001b[0m \u001b[0;34m=\u001b[0m \u001b[0mstars\u001b[0m\u001b[0;34m[\u001b[0m\u001b[0mpd\u001b[0m\u001b[0;34m.\u001b[0m\u001b[0mnotnull\u001b[0m\u001b[0;34m(\u001b[0m\u001b[0mstars\u001b[0m\u001b[0;34m[\u001b[0m\u001b[0;34m'proper'\u001b[0m\u001b[0;34m]\u001b[0m\u001b[0;34m)\u001b[0m\u001b[0;34m]\u001b[0m\u001b[0;34m\u001b[0m\u001b[0;34m\u001b[0m\u001b[0m\n\u001b[1;32m     20\u001b[0m     \u001b[0mstars_names\u001b[0m \u001b[0;34m=\u001b[0m \u001b[0mstars_names\u001b[0m\u001b[0;34m[\u001b[0m\u001b[0mstars_names\u001b[0m\u001b[0;34m[\u001b[0m\u001b[0;34m'dec'\u001b[0m\u001b[0;34m]\u001b[0m\u001b[0;34m.\u001b[0m\u001b[0mbetween\u001b[0m\u001b[0;34m(\u001b[0m\u001b[0mclat\u001b[0m\u001b[0;34m-\u001b[0m\u001b[0mgap\u001b[0m\u001b[0;34m,\u001b[0m \u001b[0mclat\u001b[0m\u001b[0;34m+\u001b[0m\u001b[0mgap\u001b[0m\u001b[0;34m)\u001b[0m\u001b[0;34m]\u001b[0m\u001b[0;34m\u001b[0m\u001b[0;34m\u001b[0m\u001b[0m\n",
      "\u001b[0;32m~/opt/anaconda3/lib/python3.8/site-packages/cartopy/mpl/geoaxes.py\u001b[0m in \u001b[0;36mwrapper\u001b[0;34m(self, *args, **kwargs)\u001b[0m\n\u001b[1;32m    303\u001b[0m         if (isinstance(transform, ccrs.CRS) and\n\u001b[1;32m    304\u001b[0m                 not isinstance(transform, ccrs.Projection)):\n\u001b[0;32m--> 305\u001b[0;31m             raise ValueError('Invalid transform: Spherical {} '\n\u001b[0m\u001b[1;32m    306\u001b[0m                              \u001b[0;34m'is not supported - consider using '\u001b[0m\u001b[0;34m\u001b[0m\u001b[0;34m\u001b[0m\u001b[0m\n\u001b[1;32m    307\u001b[0m                              'PlateCarree/RotatedPole.'.format(func.__name__))\n",
      "\u001b[0;31mValueError\u001b[0m: Invalid transform: Spherical scatter is not supported - consider using PlateCarree/RotatedPole."
     ]
    },
    {
     "data": {
      "image/png": "[encoded data removed]",
      "text/plain": [
       "<Figure size 864x864 with 1 Axes>"
      ]
     },
     "metadata": {
      "needs_background": "light"
     },
     "output_type": "display_data"
    }
   ],
   "source": [
    "fig = plt.figure(figsize=(12, 12))\n",
    "\n",
    "for i, name in enumerate(names): \n",
    "    valdf = const_names[const_names['name'] == name]\n",
    "    clon = 360/24*valdf['ra'].tolist()[0]\n",
    "    clat = valdf['dec'].tolist()[0]\n",
    "\n",
    "    ax = fig.add_subplot(np.ceil(np.sqrt(len(names))), np.ceil(np.sqrt(len(names))), i+1, \n",
    "                         projection=ccrs.Orthographic(central_longitude=clon, central_latitude=clat)) \n",
    "    ax.set_extent([clon-gap, clon+gap, clat+gap, clat-gap], ccrs.PlateCarree())\n",
    "    for index, row in asterisms.iterrows():\n",
    "        ras = [float(x)*360/24 for x in row['ra'].replace('[', '').replace(']', '').split(',')]\n",
    "        decs = [float(x) for x in row['dec'].replace('[', '').replace(']', '').split(',')]\n",
    "        for n in range(int(len(asterisms)/2)):\n",
    "            ax.plot(ras[n*2:(n+1)*2], decs[n*2:(n+1)*2], transform=ccrs.Geodetic(), color='k', lw=0.5)\n",
    "\n",
    "    ax.set_title(name)\n",
    "    ax.scatter(360/24*stars['ra'], stars['dec'], transform=ccrs.Geodetic(), s=5, alpha=0.5)\n",
    "    stars_names = stars[pd.notnull(stars['proper'])]\n",
    "    stars_names = stars_names[stars_names['dec'].between(clat-gap, clat+gap)]\n",
    "    stars_names = stars_names[stars_names['ra'].between((clon-gap)/(360/24), (clon+gap)/(360/24))]\n",
    "    for index, row in stars_names.iterrows():\n",
    "        ax.text(360/24*row['ra'], row['dec'], row['proper'], ha='left', va='center', \n",
    "                transform=ccrs.Geodetic(), fontsize=5)\n",
    "        \n",
    "    ax.set_xlim(ax.get_xlim()[::-1])\n",
    "    \n",
    "plt.show()\n",
    "plt.savefig(\"./figures/references.png\", format='png', transparent=True)\n",
    "plt.clf()\n",
    "plt.close('all')"
   ]
  },
  {
   "cell_type": "code",
   "execution_count": null,
   "metadata": {},
   "outputs": [],
   "source": []
  }
 ],
 "metadata": {
  "kernelspec": {
   "display_name": "Python 3",
   "language": "python",
   "name": "python3"
  },
  "language_info": {
   "codemirror_mode": {
    "name": "ipython",
    "version": 3
   },
   "file_extension": ".py",
   "mimetype": "text/x-python",
   "name": "python",
   "nbconvert_exporter": "python",
   "pygments_lexer": "ipython3",
   "version": "3.8.5"
  }
 },
 "nbformat": 4,
 "nbformat_minor": 2
}
