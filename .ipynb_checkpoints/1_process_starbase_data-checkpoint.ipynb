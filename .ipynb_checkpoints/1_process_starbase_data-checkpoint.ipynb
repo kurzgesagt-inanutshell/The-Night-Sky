{
 "cells": [
  {
   "cell_type": "code",
   "execution_count": 1,
   "metadata": {},
   "outputs": [],
   "source": [
    "import pandas as pd\n",
    "import numpy as np"
   ]
  },
  {
   "cell_type": "code",
   "execution_count": 2,
   "metadata": {},
   "outputs": [
    {
     "ename": "ModuleNotFoundError",
     "evalue": "No module named 'watermark'",
     "output_type": "error",
     "traceback": [
      "\u001b[0;31m---------------------------------------------------------------------------\u001b[0m",
      "\u001b[0;31mModuleNotFoundError\u001b[0m                       Traceback (most recent call last)",
      "\u001b[0;32m<ipython-input-2-26286d0748d2>\u001b[0m in \u001b[0;36m<module>\u001b[0;34m\u001b[0m\n\u001b[1;32m      1\u001b[0m \u001b[0;31m# Watermark is not required for this code, but is included for information.\u001b[0m\u001b[0;34m\u001b[0m\u001b[0;34m\u001b[0m\u001b[0;34m\u001b[0m\u001b[0m\n\u001b[0;32m----> 2\u001b[0;31m \u001b[0;32mimport\u001b[0m \u001b[0mwatermark\u001b[0m\u001b[0;34m\u001b[0m\u001b[0;34m\u001b[0m\u001b[0m\n\u001b[0m\u001b[1;32m      3\u001b[0m \u001b[0mget_ipython\u001b[0m\u001b[0;34m(\u001b[0m\u001b[0;34m)\u001b[0m\u001b[0;34m.\u001b[0m\u001b[0mrun_line_magic\u001b[0m\u001b[0;34m(\u001b[0m\u001b[0;34m'load_ext'\u001b[0m\u001b[0;34m,\u001b[0m \u001b[0;34m'watermark'\u001b[0m\u001b[0;34m)\u001b[0m\u001b[0;34m\u001b[0m\u001b[0;34m\u001b[0m\u001b[0m\n\u001b[1;32m      4\u001b[0m \u001b[0mget_ipython\u001b[0m\u001b[0;34m(\u001b[0m\u001b[0;34m)\u001b[0m\u001b[0;34m.\u001b[0m\u001b[0mrun_line_magic\u001b[0m\u001b[0;34m(\u001b[0m\u001b[0;34m'watermark'\u001b[0m\u001b[0;34m,\u001b[0m \u001b[0;34m'-a \"ELEANOR LUTZ\" -d -v -iv -m'\u001b[0m\u001b[0;34m)\u001b[0m\u001b[0;34m\u001b[0m\u001b[0;34m\u001b[0m\u001b[0m\n",
      "\u001b[0;31mModuleNotFoundError\u001b[0m: No module named 'watermark'"
     ]
    }
   ],
   "source": [
    "# Watermark is not required for this code, but is included for information. \n",
    "import watermark\n",
    "%load_ext watermark\n",
    "%watermark -a \"ELEANOR LUTZ\" -d -v -iv -m"
   ]
  },
  {
   "cell_type": "markdown",
   "metadata": {},
   "source": [
    "## Data Source\n",
    "The data used in this Jupyter Notebook is from the [HYG Database version 3](http://www.astronexus.com/hyg) by David Nash. "
   ]
  },
  {
   "cell_type": "code",
   "execution_count": null,
   "metadata": {},
   "outputs": [],
   "source": [
    "df = pd.read_csv('./data/hygdata_v3/hygdata_v3.csv', low_memory=False)\n",
    "display(df.head())\n",
    "\n",
    "# Remove the sun because it doesn't make sense in a star chart\n",
    "df = df[df['proper'] != 'Sol']\n",
    "\n",
    "# Translate plaintext Bayer designations into non-ASCII greek letters\n",
    "greek_dict = {'Alp': u\"α\",'Bet': u\"β\",'Chi': u\"χ\",'Del': u\"δ\",'Eps': u\"ε\",'Eta': u\"η\",\n",
    "              'Gam': u\"γ\",'Iot': u\"ι\",'Kap': u\"κ\",'Lam': u\"λ\",'Mu': u\"μ\",'Nu': u\"ν\",\n",
    "              'Ome': u\"ω\",'Omi': u\"ο\",'Phi': u\"φ\",'Pi': u\"π\",'Psi': u\"ψ\",'Rho': u\"ρ\",\n",
    "              'Sig': u\"σ\",'Tau': u\"τ\",'The': u\"θ\",'Ups': u\"υ\",'Xi': u\"ξ\",'Zet': u\"ζ\"}\n",
    "\n",
    "print(df[pd.notnull(df['bayer'])]['bayer'].unique())\n",
    "def get_greek_letter(n):\n",
    "    if str(n) == 'nan':\n",
    "        return(np.nan)\n",
    "    split = n.split(\"-\")\n",
    "    greek = greek_dict.get(split[0])\n",
    "    if len(split) > 1:\n",
    "        r = greek + split[1]\n",
    "    else: \n",
    "        r = greek\n",
    "    return(r)\n",
    "\n",
    "df['greek_letters'] = df['bayer'].apply(get_greek_letter)\n",
    "display(df.head())\n",
    "\n",
    "print(len(df[pd.notnull(df['spect'])]['spect'].unique()), 'unique spectral designations')\n",
    "def get_first_letter(name):\n",
    "    '''Preprocess spectral designations to remove numbers'''\n",
    "    if str(name) != 'nan':\n",
    "        if len(name) > 1:\n",
    "            if name[0:2] == 'sd':\n",
    "                # remove MK system luminosity class to look just at\n",
    "                # Morgan-Keenan designations\n",
    "                name = name[2::]\n",
    "            alphas = ''.join(c for c in name if c not in '?:!/;.,[]{}()')\n",
    "            return(alphas[0].upper())\n",
    "        else:\n",
    "            return(name.upper())\n",
    "    return(name)\n",
    "    \n",
    "df['dist'].replace(to_replace=100000, value=np.nan, inplace=True)\n",
    "    \n",
    "df['spect_desig'] = df['spect'].apply(get_first_letter)    \n",
    "print(len(df[pd.notnull(df['spect_desig'])]['spect_desig'].unique()), 'unique spectral designations')\n",
    "print(df[pd.notnull(df['spect_desig'])]['spect_desig'].unique())\n",
    "\n",
    "color_dict = { \n",
    "    'O':'#5A90C3', 'B':'#93C2F1', 'A':'#f3e8d3', 'F':'#d4bf94',\n",
    "    'G':'#FFD423', 'K':'#F99220', 'M':'#FF2620',  'L':'#FF2620',\n",
    "    'T':'#FF6199', 'Y':'#6B22FF', \n",
    "    'C':'#979330', 'R':'#979330', 'W':'#979330', 'N':'#979330',\n",
    "    'S':'#979330', 'D':'#979330', 'P':'#979330',\n",
    "    'nan': '#000000' # unknown\n",
    "}\n",
    "df['color'] = df['spect_desig'].replace(to_replace=color_dict)\n",
    "df['color'] = df['color'].replace(to_replace=np.nan, value='#000000')\n",
    "df['linecolor'] = df['color'].replace(['#000000'], ['#f3e8d3']) # beige outline for black NANs\n",
    "\n",
    "display(df.head())\n",
    "df.to_csv('./data/processed/hygdata_processed.csv', index=False)\n",
    "\n",
    "print(len(df), 'total stars available in database')\n",
    "df = df[df['mag'] <= 6.5]\n",
    "print(len(df), 'stars visible to the human eye')\n",
    "df.to_csv('./data/processed/hygdata_processed_mag65.csv', index=False)"
   ]
  }
 ],
 "metadata": {
  "kernelspec": {
   "display_name": "Python 3",
   "language": "python",
   "name": "python3"
  },
  "language_info": {
   "codemirror_mode": {
    "name": "ipython",
    "version": 3
   },
   "file_extension": ".py",
   "mimetype": "text/x-python",
   "name": "python",
   "nbconvert_exporter": "python",
   "pygments_lexer": "ipython3",
   "version": "3.8.5"
  }
 },
 "nbformat": 4,
 "nbformat_minor": 2
}
