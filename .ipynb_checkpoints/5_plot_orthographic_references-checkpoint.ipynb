{
 "cells": [
  {
   "cell_type": "code",
   "execution_count": 1,
   "metadata": {},
   "outputs": [],
   "source": [
    "import numpy as np\n",
    "import pandas as pd\n",
    "import cartopy.crs as ccrs\n",
    "\n",
    "import matplotlib\n",
    "import matplotlib.pyplot as plt"
   ]
  },
  {
   "cell_type": "code",
   "execution_count": 2,
   "metadata": {},
   "outputs": [],
   "source": [
    "# Watermark is not required for this code, but is included for information. \n",
    "#import watermark\n",
    "#%load_ext watermark\n",
    "#%watermark -a \"ELEANOR LUTZ\" -d -v -iv -m"
   ]
  },
  {
   "cell_type": "markdown",
   "metadata": {},
   "source": [
    "## Code Description\n",
    "\n",
    "This code makes reference plots to use when illustrating individual asterisms. These illustrated drawings can be found in the bottom right of the [finished map](http://tabletopwhale.com/img/posts/19-07-15.jpg). The original map uses [Western Constellation lines](http://hemel.waarnemen.com/download/#cetera) by Marc van der Sluys, but this code file uses the same Stellarium asterism data as in `2_process_asterism_data`."
   ]
  },
  {
   "cell_type": "code",
   "execution_count": 3,
   "metadata": {},
   "outputs": [],
   "source": [
    "stars = pd.read_csv('./data/processed/hygdata_processed_mag65.csv')\n",
    "stars = stars[stars['mag'] <= 6.5]\n",
    "asterisms = pd.read_csv('./data/processed/asterisms.csv')\n",
    "const_names = pd.read_csv('./data/processed/centered_constellations.csv', encoding=\"latin-1\")\n",
    "names = ['Scorpius', 'Cancer', 'Corona Borealis', 'Crater', \n",
    "         'Lepus', 'Gemini', 'Cygnus', 'Sagittarius']\n",
    "gap = 30"
   ]
  },
  {
   "cell_type": "code",
   "execution_count": 6,
   "metadata": {},
   "outputs": [
    {
     "ename": "TypeError",
     "evalue": "'numpy.float64' object cannot be interpreted as an integer",
     "output_type": "error",
     "traceback": [
      "\u001b[0;31m---------------------------------------------------------------------------\u001b[0m",
      "\u001b[0;31mTypeError\u001b[0m                                 Traceback (most recent call last)",
      "\u001b[0;32m<ipython-input-6-7774e0d2503a>\u001b[0m in \u001b[0;36m<module>\u001b[0;34m\u001b[0m\n\u001b[1;32m      6\u001b[0m     \u001b[0mclat\u001b[0m \u001b[0;34m=\u001b[0m \u001b[0mvaldf\u001b[0m\u001b[0;34m[\u001b[0m\u001b[0;34m'dec'\u001b[0m\u001b[0;34m]\u001b[0m\u001b[0;34m.\u001b[0m\u001b[0mtolist\u001b[0m\u001b[0;34m(\u001b[0m\u001b[0;34m)\u001b[0m\u001b[0;34m[\u001b[0m\u001b[0;36m0\u001b[0m\u001b[0;34m]\u001b[0m\u001b[0;34m\u001b[0m\u001b[0;34m\u001b[0m\u001b[0m\n\u001b[1;32m      7\u001b[0m \u001b[0;34m\u001b[0m\u001b[0m\n\u001b[0;32m----> 8\u001b[0;31m     ax = fig.add_subplot(int(np.ceil(np.sqrt(len(names))), np.ceil(np.sqrt(len(names)))), i+1, \n\u001b[0m\u001b[1;32m      9\u001b[0m                          projection=ccrs.Orthographic(central_longitude=clon, central_latitude=clat)) \n\u001b[1;32m     10\u001b[0m     \u001b[0max\u001b[0m\u001b[0;34m.\u001b[0m\u001b[0mset_extent\u001b[0m\u001b[0;34m(\u001b[0m\u001b[0;34m[\u001b[0m\u001b[0mclon\u001b[0m\u001b[0;34m-\u001b[0m\u001b[0mgap\u001b[0m\u001b[0;34m,\u001b[0m \u001b[0mclon\u001b[0m\u001b[0;34m+\u001b[0m\u001b[0mgap\u001b[0m\u001b[0;34m,\u001b[0m \u001b[0mclat\u001b[0m\u001b[0;34m+\u001b[0m\u001b[0mgap\u001b[0m\u001b[0;34m,\u001b[0m \u001b[0mclat\u001b[0m\u001b[0;34m-\u001b[0m\u001b[0mgap\u001b[0m\u001b[0;34m]\u001b[0m\u001b[0;34m,\u001b[0m \u001b[0mccrs\u001b[0m\u001b[0;34m.\u001b[0m\u001b[0mPlateCarree\u001b[0m\u001b[0;34m(\u001b[0m\u001b[0;34m)\u001b[0m\u001b[0;34m)\u001b[0m\u001b[0;34m\u001b[0m\u001b[0;34m\u001b[0m\u001b[0m\n",
      "\u001b[0;31mTypeError\u001b[0m: 'numpy.float64' object cannot be interpreted as an integer"
     ]
    },
    {
     "data": {
      "text/plain": [
       "<Figure size 864x864 with 0 Axes>"
      ]
     },
     "metadata": {},
     "output_type": "display_data"
    }
   ],
   "source": [
    "fig = plt.figure(figsize=(12, 12))\n",
    "\n",
    "for i, name in enumerate(names): \n",
    "    valdf = const_names[const_names['name'] == name]\n",
    "    clon = 360/24*valdf['ra'].tolist()[0]\n",
    "    clat = valdf['dec'].tolist()[0]\n",
    "\n",
    "    ax = fig.add_subplot(int(np.ceil(np.sqrt(len(names))), np.ceil(np.sqrt(len(names)))), i+1, \n",
    "                         projection=ccrs.Orthographic(central_longitude=clon, central_latitude=clat)) \n",
    "    ax.set_extent([clon-gap, clon+gap, clat+gap, clat-gap], ccrs.PlateCarree())\n",
    "    for index, row in asterisms.iterrows():\n",
    "        ras = [float(x)*360/24 for x in row['ra'].replace('[', '').replace(']', '').split(',')]\n",
    "        decs = [float(x) for x in row['dec'].replace('[', '').replace(']', '').split(',')]\n",
    "        for n in range(int(len(asterisms)/2)):\n",
    "            ax.plot(ras[n*2:(n+1)*2], decs[n*2:(n+1)*2], transform=ccrs.Geodetic(), color='k', lw=0.5)\n",
    "\n",
    "    ax.set_title(name)\n",
    "    ax.scatter(360/24*stars['ra'], stars['dec'], transform=ccrs.Geodetic(), s=5, alpha=0.5)\n",
    "    stars_names = stars[pd.notnull(stars['proper'])]\n",
    "    stars_names = stars_names[stars_names['dec'].between(clat-gap, clat+gap)]\n",
    "    stars_names = stars_names[stars_names['ra'].between((clon-gap)/(360/24), (clon+gap)/(360/24))]\n",
    "    for index, row in stars_names.iterrows():\n",
    "        ax.text(360/24*row['ra'], row['dec'], row['proper'], ha='left', va='center', \n",
    "                transform=ccrs.Geodetic(), fontsize=5)\n",
    "        \n",
    "    ax.set_xlim(ax.get_xlim()[::-1])\n",
    "    \n",
    "plt.show()\n",
    "plt.savefig(\"./figures/references.png\", format='png', transparent=True)\n",
    "plt.clf()\n",
    "plt.close('all')"
   ]
  },
  {
   "cell_type": "code",
   "execution_count": null,
   "metadata": {},
   "outputs": [],
   "source": []
  }
 ],
 "metadata": {
  "kernelspec": {
   "display_name": "Python 3",
   "language": "python",
   "name": "python3"
  }
 },
 "nbformat": 4,
 "nbformat_minor": 2
}
