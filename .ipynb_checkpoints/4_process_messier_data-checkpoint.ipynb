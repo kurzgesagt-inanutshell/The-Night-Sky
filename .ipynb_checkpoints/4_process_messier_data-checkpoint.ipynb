{
 "cells": [
  {
   "cell_type": "code",
   "execution_count": 1,
   "metadata": {},
   "outputs": [],
   "source": [
    "import pandas as pd\n",
    "import numpy as np"
   ]
  },
  {
   "cell_type": "code",
   "execution_count": 2,
   "metadata": {},
   "outputs": [],
   "source": [
    "#Watermark is not required for this code, but is included for information. \n",
    "#import watermark\n",
    "#%load_ext watermark\n",
    "#%watermark -a \"ELEANOR LUTZ\" -d -v -iv -m"
   ]
  },
  {
   "cell_type": "markdown",
   "metadata": {},
   "source": [
    "## Data Source\n",
    "The data in this `CSV` file was manually entered by hand using W.H. Finlay's [Concise Catalog of Deep-sky Objects](https://www.springer.com/us/book/9781852338510) as a reference text. All objects in the book with a magnitude less than 6.5 was included in the `CSV` file. "
   ]
  },
  {
   "cell_type": "code",
   "execution_count": 3,
   "metadata": {},
   "outputs": [
    {
     "name": "stdout",
     "output_type": "stream",
     "text": [
      "['open cluster' 'globular cluster' 'emission nebula, open cluster'\n",
      " 'emission nebula' 'star cloud' 'spiral galaxy']\n"
     ]
    },
    {
     "ename": "ValueError",
     "evalue": "Series.replace cannot use dict-value and non-None to_replace",
     "output_type": "error",
     "traceback": [
      "\u001b[0;31m---------------------------------------------------------------------------\u001b[0m",
      "\u001b[0;31mValueError\u001b[0m                                Traceback (most recent call last)",
      "\u001b[0;32m<ipython-input-3-d78b12ce58eb>\u001b[0m in \u001b[0;36m<module>\u001b[0;34m\u001b[0m\n\u001b[1;32m     22\u001b[0m \u001b[0mdf\u001b[0m\u001b[0;34m[\u001b[0m\u001b[0;34m'code'\u001b[0m\u001b[0;34m]\u001b[0m \u001b[0;34m=\u001b[0m \u001b[0mdf\u001b[0m\u001b[0;34m[\u001b[0m\u001b[0;34m'type'\u001b[0m\u001b[0;34m]\u001b[0m\u001b[0;34m.\u001b[0m\u001b[0mreplace\u001b[0m\u001b[0;34m(\u001b[0m\u001b[0municodes\u001b[0m\u001b[0;34m)\u001b[0m\u001b[0;34m\u001b[0m\u001b[0;34m\u001b[0m\u001b[0m\n\u001b[1;32m     23\u001b[0m \u001b[0;34m\u001b[0m\u001b[0m\n\u001b[0;32m---> 24\u001b[0;31m \u001b[0mdf\u001b[0m\u001b[0;34m[\u001b[0m\u001b[0;34m'name_2'\u001b[0m\u001b[0;34m]\u001b[0m \u001b[0;34m=\u001b[0m \u001b[0mdf\u001b[0m\u001b[0;34m[\u001b[0m\u001b[0;34m'proper_name'\u001b[0m\u001b[0;34m]\u001b[0m\u001b[0;34m.\u001b[0m\u001b[0mreplace\u001b[0m\u001b[0;34m(\u001b[0m\u001b[0mnp\u001b[0m\u001b[0;34m.\u001b[0m\u001b[0mnan\u001b[0m\u001b[0;34m,\u001b[0m \u001b[0mdf\u001b[0m\u001b[0;34m[\u001b[0m\u001b[0;34m'name'\u001b[0m\u001b[0;34m]\u001b[0m\u001b[0;34m)\u001b[0m\u001b[0;34m\u001b[0m\u001b[0;34m\u001b[0m\u001b[0m\n\u001b[0m\u001b[1;32m     25\u001b[0m \u001b[0;34m\u001b[0m\u001b[0m\n\u001b[1;32m     26\u001b[0m \u001b[0mdf\u001b[0m\u001b[0;34m.\u001b[0m\u001b[0mto_csv\u001b[0m\u001b[0;34m(\u001b[0m\u001b[0;34m'./data/processed/messier_ngc_processed.csv'\u001b[0m\u001b[0;34m,\u001b[0m \u001b[0mindex\u001b[0m\u001b[0;34m=\u001b[0m\u001b[0;32mFalse\u001b[0m\u001b[0;34m)\u001b[0m\u001b[0;34m\u001b[0m\u001b[0;34m\u001b[0m\u001b[0m\n",
      "\u001b[0;32m~/opt/anaconda3/lib/python3.8/site-packages/pandas/core/series.py\u001b[0m in \u001b[0;36mreplace\u001b[0;34m(self, to_replace, value, inplace, limit, regex, method)\u001b[0m\n\u001b[1;32m   4561\u001b[0m         \u001b[0mmethod\u001b[0m\u001b[0;34m=\u001b[0m\u001b[0;34m\"pad\"\u001b[0m\u001b[0;34m,\u001b[0m\u001b[0;34m\u001b[0m\u001b[0;34m\u001b[0m\u001b[0m\n\u001b[1;32m   4562\u001b[0m     ):\n\u001b[0;32m-> 4563\u001b[0;31m         return super().replace(\n\u001b[0m\u001b[1;32m   4564\u001b[0m             \u001b[0mto_replace\u001b[0m\u001b[0;34m=\u001b[0m\u001b[0mto_replace\u001b[0m\u001b[0;34m,\u001b[0m\u001b[0;34m\u001b[0m\u001b[0;34m\u001b[0m\u001b[0m\n\u001b[1;32m   4565\u001b[0m             \u001b[0mvalue\u001b[0m\u001b[0;34m=\u001b[0m\u001b[0mvalue\u001b[0m\u001b[0;34m,\u001b[0m\u001b[0;34m\u001b[0m\u001b[0;34m\u001b[0m\u001b[0m\n",
      "\u001b[0;32m~/opt/anaconda3/lib/python3.8/site-packages/pandas/core/generic.py\u001b[0m in \u001b[0;36mreplace\u001b[0;34m(self, to_replace, value, inplace, limit, regex, method)\u001b[0m\n\u001b[1;32m   6572\u001b[0m                     \u001b[0;31m# Operate column-wise\u001b[0m\u001b[0;34m\u001b[0m\u001b[0;34m\u001b[0m\u001b[0;34m\u001b[0m\u001b[0m\n\u001b[1;32m   6573\u001b[0m                     \u001b[0;32mif\u001b[0m \u001b[0mself\u001b[0m\u001b[0;34m.\u001b[0m\u001b[0mndim\u001b[0m \u001b[0;34m==\u001b[0m \u001b[0;36m1\u001b[0m\u001b[0;34m:\u001b[0m\u001b[0;34m\u001b[0m\u001b[0;34m\u001b[0m\u001b[0m\n\u001b[0;32m-> 6574\u001b[0;31m                         raise ValueError(\n\u001b[0m\u001b[1;32m   6575\u001b[0m                             \u001b[0;34m\"Series.replace cannot use dict-value and \"\u001b[0m\u001b[0;34m\u001b[0m\u001b[0;34m\u001b[0m\u001b[0m\n\u001b[1;32m   6576\u001b[0m                             \u001b[0;34m\"non-None to_replace\"\u001b[0m\u001b[0;34m\u001b[0m\u001b[0;34m\u001b[0m\u001b[0m\n",
      "\u001b[0;31mValueError\u001b[0m: Series.replace cannot use dict-value and non-None to_replace"
     ]
    }
   ],
   "source": [
    "df = pd.read_csv('./data/messier_ngc.csv')\n",
    "\n",
    "df['ra_h'] = df['ra'].str.split(\"h \").str.get(0).astype(int)\n",
    "df['ra_min'] = df['ra'].str.split(\"h \").str.get(1).str.replace(\"m\", \"\").astype(float)\n",
    "df['ra_original'] = df['ra'].copy()\n",
    "df['ra'] = df['ra_h'] + df['ra_min']/60\n",
    "\n",
    "df['dec_sign'] = df['dec'].str.get(0)\n",
    "df['dec_degrees'] = np.abs(df['dec'].str.split(\"d\").str.get(0).astype(int))\n",
    "df['dec_seconds'] = df['dec'].str.split(\"d \").str.get(1).str.replace(\"'\", \"\").astype(float)\n",
    "df['dec_original'] = df['dec'].copy()\n",
    "df['dec'] = df['dec_degrees'] + df['dec_seconds']/60\n",
    "df['dec'] = df['dec_sign'] + df['dec'].astype(str)\n",
    "df['dec'] = df['dec'].astype(float)\n",
    "df.drop(['ra_h', 'ra_min', 'dec_sign', 'dec_degrees', 'dec_seconds'], axis=1, inplace=True)\n",
    "\n",
    "print(df['type'].unique())\n",
    "unicodes = {'open cluster': u\"\\u16b8\", 'globular cluster': u\"\\u2724\",\n",
    "            'emission nebula': u\"\\u16e5\", \"star cloud\": u\"\\u2388\", \"spiral galaxy\": u\"\\u214f\", \n",
    "            \"planetary nebula\": u\"\\u16bb\", 'emission nebula, open cluster': u\"\\u25c8\"}\n",
    "df['code'] = df['type'].replace(unicodes)\n",
    "\n",
    "df['name_2'] = df['proper_name'].replace(np.nan, df['name'])\n",
    "\n",
    "df.to_csv('./data/processed/messier_ngc_processed.csv', index=False)\n",
    "df.head()"
   ]
  },
  {
   "cell_type": "code",
   "execution_count": 4,
   "metadata": {},
   "outputs": [
    {
     "data": {
      "text/html": [
       "<div>\n",
       "<style scoped>\n",
       "    .dataframe tbody tr th:only-of-type {\n",
       "        vertical-align: middle;\n",
       "    }\n",
       "\n",
       "    .dataframe tbody tr th {\n",
       "        vertical-align: top;\n",
       "    }\n",
       "\n",
       "    .dataframe thead th {\n",
       "        text-align: right;\n",
       "    }\n",
       "</style>\n",
       "<table border=\"1\" class=\"dataframe\">\n",
       "  <thead>\n",
       "    <tr style=\"text-align: right;\">\n",
       "      <th></th>\n",
       "      <th>name</th>\n",
       "      <th>type</th>\n",
       "      <th>ra</th>\n",
       "      <th>dec</th>\n",
       "      <th>magnitude</th>\n",
       "      <th>proper_name</th>\n",
       "      <th>ra_original</th>\n",
       "      <th>dec_original</th>\n",
       "      <th>code</th>\n",
       "      <th>name_2</th>\n",
       "    </tr>\n",
       "  </thead>\n",
       "  <tbody>\n",
       "    <tr>\n",
       "      <th>0</th>\n",
       "      <td>M11</td>\n",
       "      <td>open cluster</td>\n",
       "      <td>18.851667</td>\n",
       "      <td>-6.266667</td>\n",
       "      <td>5.8</td>\n",
       "      <td>Wild Duck Cluster</td>\n",
       "      <td>18h 51.1m</td>\n",
       "      <td>-6d 16'</td>\n",
       "      <td>ᚸ</td>\n",
       "      <td>Wild Duck Cluster</td>\n",
       "    </tr>\n",
       "    <tr>\n",
       "      <th>11</th>\n",
       "      <td>M24</td>\n",
       "      <td>star cloud</td>\n",
       "      <td>18.275000</td>\n",
       "      <td>-18.833333</td>\n",
       "      <td>4.6</td>\n",
       "      <td>Small Sagittarius Star Cloud</td>\n",
       "      <td>18h 16.5m</td>\n",
       "      <td>-18d 50'</td>\n",
       "      <td>⎈</td>\n",
       "      <td>Small Sagittarius Star Cloud</td>\n",
       "    </tr>\n",
       "    <tr>\n",
       "      <th>12</th>\n",
       "      <td>M25</td>\n",
       "      <td>open cluster</td>\n",
       "      <td>18.530000</td>\n",
       "      <td>-19.116667</td>\n",
       "      <td>4.6</td>\n",
       "      <td>NaN</td>\n",
       "      <td>18h 31.8m</td>\n",
       "      <td>-19d 7'</td>\n",
       "      <td>ᚸ</td>\n",
       "      <td>M25</td>\n",
       "    </tr>\n",
       "    <tr>\n",
       "      <th>14</th>\n",
       "      <td>M31</td>\n",
       "      <td>spiral galaxy</td>\n",
       "      <td>0.711667</td>\n",
       "      <td>41.266667</td>\n",
       "      <td>3.4</td>\n",
       "      <td>Andromeda Galaxy</td>\n",
       "      <td>00h 42.7m</td>\n",
       "      <td>+41d 16'</td>\n",
       "      <td>⅏</td>\n",
       "      <td>Andromeda Galaxy</td>\n",
       "    </tr>\n",
       "    <tr>\n",
       "      <th>23</th>\n",
       "      <td>M41</td>\n",
       "      <td>open cluster</td>\n",
       "      <td>6.766667</td>\n",
       "      <td>-20.750000</td>\n",
       "      <td>4.5</td>\n",
       "      <td>NaN</td>\n",
       "      <td>6h 46m</td>\n",
       "      <td>-20d 45'</td>\n",
       "      <td>ᚸ</td>\n",
       "      <td>M41</td>\n",
       "    </tr>\n",
       "  </tbody>\n",
       "</table>\n",
       "</div>"
      ],
      "text/plain": [
       "   name           type         ra        dec  magnitude  \\\n",
       "0   M11   open cluster  18.851667  -6.266667        5.8   \n",
       "11  M24     star cloud  18.275000 -18.833333        4.6   \n",
       "12  M25   open cluster  18.530000 -19.116667        4.6   \n",
       "14  M31  spiral galaxy   0.711667  41.266667        3.4   \n",
       "23  M41   open cluster   6.766667 -20.750000        4.5   \n",
       "\n",
       "                     proper_name ra_original dec_original code  \\\n",
       "0              Wild Duck Cluster   18h 51.1m      -6d 16'    ᚸ   \n",
       "11  Small Sagittarius Star Cloud   18h 16.5m     -18d 50'    ⎈   \n",
       "12                           NaN   18h 31.8m      -19d 7'    ᚸ   \n",
       "14              Andromeda Galaxy   00h 42.7m     +41d 16'    ⅏   \n",
       "23                           NaN      6h 46m     -20d 45'    ᚸ   \n",
       "\n",
       "                          name_2  \n",
       "0              Wild Duck Cluster  \n",
       "11  Small Sagittarius Star Cloud  \n",
       "12                           M25  \n",
       "14              Andromeda Galaxy  \n",
       "23                           M41  "
      ]
     },
     "execution_count": 4,
     "metadata": {},
     "output_type": "execute_result"
    }
   ],
   "source": [
    "dfSorted = pd.read_csv('./data/processed/messier_ngc_processed.csv')\n",
    "dfSorted = dfSorted[dfSorted['name'].isin([\"M11\", \"M45\", \"M24\", \"M7\", \"M31\", \"M44\", \"M42\", \"M6\", \"M47\", \"M41\", \"M25\"])] \n",
    "dfSorted.to_csv('./data/processed/messier_ngc_processed_sorted.csv', index=False)\n",
    "\n",
    "dfSorted.head()"
   ]
  },
  {
   "cell_type": "code",
   "execution_count": null,
   "metadata": {},
   "outputs": [],
   "source": []
  }
 ],
 "metadata": {
  "kernelspec": {
   "display_name": "Python 3",
   "language": "python",
   "name": "python3"
  },
  "language_info": {
   "codemirror_mode": {
    "name": "ipython",
    "version": 3
   },
   "file_extension": ".py",
   "mimetype": "text/x-python",
   "name": "python",
   "nbconvert_exporter": "python",
   "pygments_lexer": "ipython3",
   "version": "3.8.5"
  }
 },
 "nbformat": 4,
 "nbformat_minor": 2
}
