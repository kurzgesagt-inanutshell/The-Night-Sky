{
 "cells": [
  {
   "cell_type": "code",
   "execution_count": 1,
   "metadata": {},
   "outputs": [],
   "source": [
    "import pandas as pd\n",
    "import numpy as np"
   ]
  },
  {
   "cell_type": "code",
   "execution_count": 2,
   "metadata": {},
   "outputs": [],
   "source": [
    "#Watermark is not required for this code, but is included for information. \n",
    "#import watermark\n",
    "#%load_ext watermark\n",
    "#%watermark -a \"ELEANOR LUTZ\" -d -v -iv -m"
   ]
  },
  {
   "cell_type": "markdown",
   "metadata": {},
   "source": [
    "## Data Source\n",
    "The data in this `CSV` file was manually entered by hand using W.H. Finlay's [Concise Catalog of Deep-sky Objects](https://www.springer.com/us/book/9781852338510) as a reference text. All objects in the book with a magnitude less than 6.5 was included in the `CSV` file. "
   ]
  },
  {
   "cell_type": "code",
   "execution_count": 3,
   "metadata": {},
   "outputs": [
    {
     "name": "stdout",
     "output_type": "stream",
     "text": [
      "['open cluster' 'globular cluster' 'emission nebula, open cluster'\n",
      " 'emission nebula' 'star cloud' 'spiral galaxy']\n"
     ]
    },
    {
     "ename": "ValueError",
     "evalue": "Series.replace cannot use dict-value and non-None to_replace",
     "output_type": "error",
     "traceback": [
      "\u001b[0;31m---------------------------------------------------------------------------\u001b[0m",
      "\u001b[0;31mValueError\u001b[0m                                Traceback (most recent call last)",
      "\u001b[0;32m<ipython-input-3-c36e5b1d388a>\u001b[0m in \u001b[0;36m<module>\u001b[0;34m\u001b[0m\n\u001b[1;32m     21\u001b[0m \u001b[0mdf\u001b[0m\u001b[0;34m[\u001b[0m\u001b[0;34m'code'\u001b[0m\u001b[0;34m]\u001b[0m \u001b[0;34m=\u001b[0m \u001b[0mdf\u001b[0m\u001b[0;34m[\u001b[0m\u001b[0;34m'type'\u001b[0m\u001b[0;34m]\u001b[0m\u001b[0;34m.\u001b[0m\u001b[0mreplace\u001b[0m\u001b[0;34m(\u001b[0m\u001b[0municodes\u001b[0m\u001b[0;34m)\u001b[0m\u001b[0;34m\u001b[0m\u001b[0;34m\u001b[0m\u001b[0m\n\u001b[1;32m     22\u001b[0m \u001b[0;34m\u001b[0m\u001b[0m\n\u001b[0;32m---> 23\u001b[0;31m \u001b[0mdf\u001b[0m\u001b[0;34m[\u001b[0m\u001b[0;34m'name_2'\u001b[0m\u001b[0;34m]\u001b[0m \u001b[0;34m=\u001b[0m \u001b[0mdf\u001b[0m\u001b[0;34m[\u001b[0m\u001b[0;34m'proper_name'\u001b[0m\u001b[0;34m]\u001b[0m\u001b[0;34m.\u001b[0m\u001b[0mreplace\u001b[0m\u001b[0;34m(\u001b[0m\u001b[0mnp\u001b[0m\u001b[0;34m.\u001b[0m\u001b[0mnan\u001b[0m\u001b[0;34m,\u001b[0m \u001b[0mdf\u001b[0m\u001b[0;34m[\u001b[0m\u001b[0;34m'name'\u001b[0m\u001b[0;34m]\u001b[0m\u001b[0;34m)\u001b[0m\u001b[0;34m\u001b[0m\u001b[0;34m\u001b[0m\u001b[0m\n\u001b[0m\u001b[1;32m     24\u001b[0m \u001b[0;34m\u001b[0m\u001b[0m\n\u001b[1;32m     25\u001b[0m \u001b[0mdf\u001b[0m\u001b[0;34m.\u001b[0m\u001b[0mto_csv\u001b[0m\u001b[0;34m(\u001b[0m\u001b[0;34m'./data/processed/messier_ngc_processed.csv'\u001b[0m\u001b[0;34m,\u001b[0m \u001b[0mindex\u001b[0m\u001b[0;34m=\u001b[0m\u001b[0;32mFalse\u001b[0m\u001b[0;34m)\u001b[0m\u001b[0;34m\u001b[0m\u001b[0;34m\u001b[0m\u001b[0m\n",
      "\u001b[0;32m~/opt/anaconda3/lib/python3.8/site-packages/pandas/core/series.py\u001b[0m in \u001b[0;36mreplace\u001b[0;34m(self, to_replace, value, inplace, limit, regex, method)\u001b[0m\n\u001b[1;32m   4561\u001b[0m         \u001b[0mmethod\u001b[0m\u001b[0;34m=\u001b[0m\u001b[0;34m\"pad\"\u001b[0m\u001b[0;34m,\u001b[0m\u001b[0;34m\u001b[0m\u001b[0;34m\u001b[0m\u001b[0m\n\u001b[1;32m   4562\u001b[0m     ):\n\u001b[0;32m-> 4563\u001b[0;31m         return super().replace(\n\u001b[0m\u001b[1;32m   4564\u001b[0m             \u001b[0mto_replace\u001b[0m\u001b[0;34m=\u001b[0m\u001b[0mto_replace\u001b[0m\u001b[0;34m,\u001b[0m\u001b[0;34m\u001b[0m\u001b[0;34m\u001b[0m\u001b[0m\n\u001b[1;32m   4565\u001b[0m             \u001b[0mvalue\u001b[0m\u001b[0;34m=\u001b[0m\u001b[0mvalue\u001b[0m\u001b[0;34m,\u001b[0m\u001b[0;34m\u001b[0m\u001b[0;34m\u001b[0m\u001b[0m\n",
      "\u001b[0;32m~/opt/anaconda3/lib/python3.8/site-packages/pandas/core/generic.py\u001b[0m in \u001b[0;36mreplace\u001b[0;34m(self, to_replace, value, inplace, limit, regex, method)\u001b[0m\n\u001b[1;32m   6572\u001b[0m                     \u001b[0;31m# Operate column-wise\u001b[0m\u001b[0;34m\u001b[0m\u001b[0;34m\u001b[0m\u001b[0;34m\u001b[0m\u001b[0m\n\u001b[1;32m   6573\u001b[0m                     \u001b[0;32mif\u001b[0m \u001b[0mself\u001b[0m\u001b[0;34m.\u001b[0m\u001b[0mndim\u001b[0m \u001b[0;34m==\u001b[0m \u001b[0;36m1\u001b[0m\u001b[0;34m:\u001b[0m\u001b[0;34m\u001b[0m\u001b[0;34m\u001b[0m\u001b[0m\n\u001b[0;32m-> 6574\u001b[0;31m                         raise ValueError(\n\u001b[0m\u001b[1;32m   6575\u001b[0m                             \u001b[0;34m\"Series.replace cannot use dict-value and \"\u001b[0m\u001b[0;34m\u001b[0m\u001b[0;34m\u001b[0m\u001b[0m\n\u001b[1;32m   6576\u001b[0m                             \u001b[0;34m\"non-None to_replace\"\u001b[0m\u001b[0;34m\u001b[0m\u001b[0;34m\u001b[0m\u001b[0m\n",
      "\u001b[0;31mValueError\u001b[0m: Series.replace cannot use dict-value and non-None to_replace"
     ]
    }
   ],
   "source": [
    "df = pd.read_csv('./data/messier_ngc.csv')\n",
    "\n",
    "df['ra_h'] = df['ra'].str.split(\"h \").str.get(0).astype(int)\n",
    "df['ra_min'] = df['ra'].str.split(\"h \").str.get(1).str.replace(\"m\", \"\").astype(float)\n",
    "df['ra_original'] = df['ra'].copy()\n",
    "df['ra'] = df['ra_h'] + df['ra_min']/60\n",
    "\n",
    "df['dec_sign'] = df['dec'].str.get(0)\n",
    "df['dec_degrees'] = np.abs(df['dec'].str.split(\"d\").str.get(0).astype(int))\n",
    "df['dec_seconds'] = df['dec'].str.split(\"d \").str.get(1).str.replace(\"'\", \"\").astype(float)\n",
    "df['dec_original'] = df['dec'].copy()\n",
    "df['dec'] = df['dec_degrees'] + df['dec_seconds']/60\n",
    "df['dec'] = df['dec_sign'] + df['dec'].astype(str)\n",
    "df['dec'] = df['dec'].astype(float)\n",
    "df.drop(['ra_h', 'ra_min', 'dec_sign', 'dec_degrees', 'dec_seconds'], axis=1, inplace=True)\n",
    "\n",
    "print(df['type'].unique())\n",
    "unicodes = {'open cluster': u\"\\u16b8\", 'globular cluster': u\"\\u2724\",\n",
    "            'emission nebula': u\"\\u16e5\", \"star cloud\": u\"\\u2388\", \"spiral galaxy\": u\"\\u214f\", \n",
    "            \"planetary nebula\": u\"\\u16bb\", 'emission nebula, open cluster': u\"\\u25c8\"}\n",
    "df['code'] = df['type'].replace(unicodes)\n",
    "\n",
    "df['name_2'] = df['proper_name'].replace(np.nan, df['name'])\n",
    "\n",
    "df.to_csv('./data/processed/messier_ngc_processed.csv', index=False)\n",
    "df.head()"
   ]
  },
  {
   "cell_type": "code",
   "execution_count": null,
   "metadata": {},
   "outputs": [],
   "source": [
    "dfSorted = pd.read_csv('./data/processed/messier_ngc_processed.csv')\n",
    "dfSorted = dfSorted[dfSorted['name'].isin([\"M11\", \"M45\", \"M24\", \"M7\", \"M31\", \"M44\", \"M42\", \"M6\", \"M47\", \"M41\", \"M25\"])] \n",
    "dfSorted.to_csv('./data/processed/messier_ngc_processed_sorted.csv', index=False)\n",
    "\n",
    "dfSorted.head()"
   ]
  },
  {
   "cell_type": "code",
   "execution_count": null,
   "metadata": {},
   "outputs": [],
   "source": []
  }
 ],
 "metadata": {
  "kernelspec": {
   "display_name": "Python 3",
   "language": "python",
   "name": "python3"
  },
  "language_info": {
   "codemirror_mode": {
    "name": "ipython",
    "version": 3
   },
   "file_extension": ".py",
   "mimetype": "text/x-python",
   "name": "python",
   "nbconvert_exporter": "python",
   "pygments_lexer": "ipython3",
   "version": "3.8.5"
  }
 },
 "nbformat": 4,
 "nbformat_minor": 2
}
